{
 "cells": [
  {
   "cell_type": "code",
   "execution_count": 1,
   "metadata": {},
   "outputs": [],
   "source": [
    "%load_ext autoreload\n",
    "%autoreload 2\n",
    "\n",
    "import pandas as pd\n",
    "import numpy as np\n",
    "from tqdm.auto import tqdm\n",
    "import statsmodels.formula.api as smf\n",
    "\n",
    "import tasks.postprocessing\n",
    "import tasks.constants\n",
    "import tasks.graphs\n",
    "import tasks.stats"
   ]
  },
  {
   "cell_type": "code",
   "execution_count": 2,
   "metadata": {},
   "outputs": [],
   "source": [
    "VMAX = 0.2\n",
    "VMIN = -0.2\n",
    "\n",
    "tqdm.pandas()"
   ]
  },
  {
   "cell_type": "markdown",
   "metadata": {},
   "source": [
    "## Load datasets"
   ]
  },
  {
   "cell_type": "code",
   "execution_count": 3,
   "metadata": {},
   "outputs": [
    {
     "data": {
      "text/html": [
       "<div>\n",
       "<style scoped>\n",
       "    .dataframe tbody tr th:only-of-type {\n",
       "        vertical-align: middle;\n",
       "    }\n",
       "\n",
       "    .dataframe tbody tr th {\n",
       "        vertical-align: top;\n",
       "    }\n",
       "\n",
       "    .dataframe thead th {\n",
       "        text-align: right;\n",
       "    }\n",
       "</style>\n",
       "<table border=\"1\" class=\"dataframe\">\n",
       "  <thead>\n",
       "    <tr style=\"text-align: right;\">\n",
       "      <th></th>\n",
       "      <th>conv_id</th>\n",
       "      <th>message_id</th>\n",
       "      <th>message</th>\n",
       "      <th>model</th>\n",
       "      <th>turns</th>\n",
       "      <th>prompts</th>\n",
       "    </tr>\n",
       "  </thead>\n",
       "  <tbody>\n",
       "    <tr>\n",
       "      <th>11</th>\n",
       "      <td>3bd075d6-b91b-4f60-9138-c33feff56d2c</td>\n",
       "      <td>-1870930993328192561</td>\n",
       "      <td>@SkepticalInvestor77, you're missing the point...</td>\n",
       "      <td>nan</td>\n",
       "      <td>random_weighted</td>\n",
       "      <td>Original</td>\n",
       "    </tr>\n",
       "    <tr>\n",
       "      <th>22</th>\n",
       "      <td>3bd075d6-b91b-4f60-9138-c33feff56d2c</td>\n",
       "      <td>-1583336252148959998</td>\n",
       "      <td>@CitySlicker05, thank you for clarifying your ...</td>\n",
       "      <td>nan</td>\n",
       "      <td>random_weighted</td>\n",
       "      <td>Original</td>\n",
       "    </tr>\n",
       "    <tr>\n",
       "      <th>33</th>\n",
       "      <td>3bd075d6-b91b-4f60-9138-c33feff56d2c</td>\n",
       "      <td>838628372202429525</td>\n",
       "      <td>@SkepticalInvestor77, I understand your perspe...</td>\n",
       "      <td>nan</td>\n",
       "      <td>random_weighted</td>\n",
       "      <td>Original</td>\n",
       "    </tr>\n",
       "    <tr>\n",
       "      <th>44</th>\n",
       "      <td>3bd075d6-b91b-4f60-9138-c33feff56d2c</td>\n",
       "      <td>1852804548951377081</td>\n",
       "      <td>@GentleTherapist56, thank you for your thought...</td>\n",
       "      <td>nan</td>\n",
       "      <td>random_weighted</td>\n",
       "      <td>Original</td>\n",
       "    </tr>\n",
       "    <tr>\n",
       "      <th>55</th>\n",
       "      <td>3bd075d6-b91b-4f60-9138-c33feff56d2c</td>\n",
       "      <td>-1794484532174709680</td>\n",
       "      <td>@GentleTherapist56, you're reaching for the mo...</td>\n",
       "      <td>nan</td>\n",
       "      <td>random_weighted</td>\n",
       "      <td>Original</td>\n",
       "    </tr>\n",
       "    <tr>\n",
       "      <th>...</th>\n",
       "      <td>...</td>\n",
       "      <td>...</td>\n",
       "      <td>...</td>\n",
       "      <td>...</td>\n",
       "      <td>...</td>\n",
       "      <td>...</td>\n",
       "    </tr>\n",
       "    <tr>\n",
       "      <th>57266</th>\n",
       "      <td>8fd69250-71ad-4b24-9dca-0658d6eb95fc</td>\n",
       "      <td>1972079638350772560</td>\n",
       "      <td>@WanderlustNomad22, thank you for bringing up ...</td>\n",
       "      <td>Qwen 2.5</td>\n",
       "      <td>random_weighted</td>\n",
       "      <td>Original</td>\n",
       "    </tr>\n",
       "    <tr>\n",
       "      <th>57277</th>\n",
       "      <td>8fd69250-71ad-4b24-9dca-0658d6eb95fc</td>\n",
       "      <td>1183976761754781031</td>\n",
       "      <td>I completely agree that addressing systemic is...</td>\n",
       "      <td>Qwen 2.5</td>\n",
       "      <td>random_weighted</td>\n",
       "      <td>Original</td>\n",
       "    </tr>\n",
       "    <tr>\n",
       "      <th>57288</th>\n",
       "      <td>8fd69250-71ad-4b24-9dca-0658d6eb95fc</td>\n",
       "      <td>1769825593077317243</td>\n",
       "      <td>@NatureLover88, thank you for sharing your per...</td>\n",
       "      <td>Qwen 2.5</td>\n",
       "      <td>random_weighted</td>\n",
       "      <td>Original</td>\n",
       "    </tr>\n",
       "    <tr>\n",
       "      <th>57299</th>\n",
       "      <td>8fd69250-71ad-4b24-9dca-0658d6eb95fc</td>\n",
       "      <td>1394900428090388415</td>\n",
       "      <td>@NatureLover88, I totally agree with you about...</td>\n",
       "      <td>Qwen 2.5</td>\n",
       "      <td>random_weighted</td>\n",
       "      <td>Original</td>\n",
       "    </tr>\n",
       "    <tr>\n",
       "      <th>57310</th>\n",
       "      <td>8fd69250-71ad-4b24-9dca-0658d6eb95fc</td>\n",
       "      <td>-2304848861889816101</td>\n",
       "      <td>@WanderlustNomad22, thanks for sharing your in...</td>\n",
       "      <td>Qwen 2.5</td>\n",
       "      <td>random_weighted</td>\n",
       "      <td>Original</td>\n",
       "    </tr>\n",
       "  </tbody>\n",
       "</table>\n",
       "<p>3431 rows × 6 columns</p>\n",
       "</div>"
      ],
      "text/plain": [
       "                                    conv_id            message_id  \\\n",
       "11     3bd075d6-b91b-4f60-9138-c33feff56d2c  -1870930993328192561   \n",
       "22     3bd075d6-b91b-4f60-9138-c33feff56d2c  -1583336252148959998   \n",
       "33     3bd075d6-b91b-4f60-9138-c33feff56d2c    838628372202429525   \n",
       "44     3bd075d6-b91b-4f60-9138-c33feff56d2c   1852804548951377081   \n",
       "55     3bd075d6-b91b-4f60-9138-c33feff56d2c  -1794484532174709680   \n",
       "...                                     ...                   ...   \n",
       "57266  8fd69250-71ad-4b24-9dca-0658d6eb95fc   1972079638350772560   \n",
       "57277  8fd69250-71ad-4b24-9dca-0658d6eb95fc   1183976761754781031   \n",
       "57288  8fd69250-71ad-4b24-9dca-0658d6eb95fc   1769825593077317243   \n",
       "57299  8fd69250-71ad-4b24-9dca-0658d6eb95fc   1394900428090388415   \n",
       "57310  8fd69250-71ad-4b24-9dca-0658d6eb95fc  -2304848861889816101   \n",
       "\n",
       "                                                 message     model  \\\n",
       "11     @SkepticalInvestor77, you're missing the point...       nan   \n",
       "22     @CitySlicker05, thank you for clarifying your ...       nan   \n",
       "33     @SkepticalInvestor77, I understand your perspe...       nan   \n",
       "44     @GentleTherapist56, thank you for your thought...       nan   \n",
       "55     @GentleTherapist56, you're reaching for the mo...       nan   \n",
       "...                                                  ...       ...   \n",
       "57266  @WanderlustNomad22, thank you for bringing up ...  Qwen 2.5   \n",
       "57277  I completely agree that addressing systemic is...  Qwen 2.5   \n",
       "57288  @NatureLover88, thank you for sharing your per...  Qwen 2.5   \n",
       "57299  @NatureLover88, I totally agree with you about...  Qwen 2.5   \n",
       "57310  @WanderlustNomad22, thanks for sharing your in...  Qwen 2.5   \n",
       "\n",
       "                 turns   prompts  \n",
       "11     random_weighted  Original  \n",
       "22     random_weighted  Original  \n",
       "33     random_weighted  Original  \n",
       "44     random_weighted  Original  \n",
       "55     random_weighted  Original  \n",
       "...                ...       ...  \n",
       "57266  random_weighted  Original  \n",
       "57277  random_weighted  Original  \n",
       "57288  random_weighted  Original  \n",
       "57299  random_weighted  Original  \n",
       "57310  random_weighted  Original  \n",
       "\n",
       "[3431 rows x 6 columns]"
      ]
     },
     "execution_count": 3,
     "metadata": {},
     "output_type": "execute_result"
    }
   ],
   "source": [
    "main_df = tasks.postprocessing.get_main_dataset()\n",
    "main_df = main_df.iloc[:, [0, 1, 9, 4]]\n",
    "main_df = main_df.drop_duplicates(\"message_id\")\n",
    "main_df[\"turns\"] = \"random_weighted\"\n",
    "main_df[\"prompts\"] = \"Original\"\n",
    "# remove seed comments from analysis\n",
    "main_df = main_df[main_df.model != \"hardcoded\"]\n",
    "main_df"
   ]
  },
  {
   "cell_type": "code",
   "execution_count": 4,
   "metadata": {},
   "outputs": [
    {
     "ename": "ValueError",
     "evalue": "too many values to unpack (expected 2)",
     "output_type": "error",
     "traceback": [
      "\u001b[0;31m---------------------------------------------------------------------------\u001b[0m",
      "\u001b[0;31mValueError\u001b[0m                                Traceback (most recent call last)",
      "Cell \u001b[0;32mIn[4], line 1\u001b[0m\n\u001b[0;32m----> 1\u001b[0m abl_df \u001b[38;5;241m=\u001b[39m tasks\u001b[38;5;241m.\u001b[39mpostprocessing\u001b[38;5;241m.\u001b[39mget_ablation_df()\n\u001b[1;32m      2\u001b[0m abl_df \u001b[38;5;241m=\u001b[39m abl_df\u001b[38;5;241m.\u001b[39mloc[\n\u001b[1;32m      3\u001b[0m     :, [\u001b[38;5;124m\"\u001b[39m\u001b[38;5;124mconv_id\u001b[39m\u001b[38;5;124m\"\u001b[39m, \u001b[38;5;124m\"\u001b[39m\u001b[38;5;124mmessage_id\u001b[39m\u001b[38;5;124m\"\u001b[39m, \u001b[38;5;124m\"\u001b[39m\u001b[38;5;124mmessage\u001b[39m\u001b[38;5;124m\"\u001b[39m, \u001b[38;5;124m\"\u001b[39m\u001b[38;5;124mturns\u001b[39m\u001b[38;5;124m\"\u001b[39m, \u001b[38;5;124m\"\u001b[39m\u001b[38;5;124mprompts\u001b[39m\u001b[38;5;124m\"\u001b[39m]\n\u001b[1;32m      4\u001b[0m ]\n\u001b[1;32m      5\u001b[0m abl_df\u001b[38;5;241m.\u001b[39mturns \u001b[38;5;241m=\u001b[39m np\u001b[38;5;241m.\u001b[39mwhere(\n\u001b[1;32m      6\u001b[0m     abl_df\u001b[38;5;241m.\u001b[39mturns\u001b[38;5;241m.\u001b[39mapply(\u001b[38;5;28;01mlambda\u001b[39;00m x: \u001b[38;5;28mstr\u001b[39m(x) \u001b[38;5;241m==\u001b[39m \u001b[38;5;124m\"\u001b[39m\u001b[38;5;124mnan\u001b[39m\u001b[38;5;124m\"\u001b[39m),\n\u001b[1;32m      7\u001b[0m     \u001b[38;5;124m\"\u001b[39m\u001b[38;5;124mrandom_weighted\u001b[39m\u001b[38;5;124m\"\u001b[39m,\n\u001b[1;32m      8\u001b[0m     abl_df\u001b[38;5;241m.\u001b[39mturns,\n\u001b[1;32m      9\u001b[0m )\n",
      "File \u001b[0;32m~/Documents/research/synthetic_moderation_experiments/notebooks/tasks/postprocessing.py:103\u001b[0m, in \u001b[0;36mget_ablation_df\u001b[0;34m()\u001b[0m\n\u001b[1;32m    100\u001b[0m \u001b[38;5;66;03m# each ablation feature is a dimension,\u001b[39;00m\n\u001b[1;32m    101\u001b[0m \u001b[38;5;66;03m# each factor is a value in that dimension\u001b[39;00m\n\u001b[1;32m    102\u001b[0m df_id \u001b[38;5;241m=\u001b[39m dataset_path\u001b[38;5;241m.\u001b[39mstem\u001b[38;5;241m.\u001b[39mreplace(\u001b[38;5;124m\"\u001b[39m\u001b[38;5;124mabl_\u001b[39m\u001b[38;5;124m\"\u001b[39m, \u001b[38;5;124m\"\u001b[39m\u001b[38;5;124m\"\u001b[39m)\n\u001b[0;32m--> 103\u001b[0m feature, factor \u001b[38;5;241m=\u001b[39m df_id\u001b[38;5;241m.\u001b[39msplit(\u001b[38;5;124m\"\u001b[39m\u001b[38;5;124m_\u001b[39m\u001b[38;5;124m\"\u001b[39m)\n\u001b[1;32m    104\u001b[0m abl_df[feature] \u001b[38;5;241m=\u001b[39m factor\n\u001b[1;32m    106\u001b[0m datasets\u001b[38;5;241m.\u001b[39mappend(abl_df)\n",
      "\u001b[0;31mValueError\u001b[0m: too many values to unpack (expected 2)"
     ]
    }
   ],
   "source": [
    "abl_df = tasks.postprocessing.get_ablation_df()\n",
    "abl_df = abl_df.loc[\n",
    "    :, [\"conv_id\", \"message_id\", \"message\", \"turns\", \"prompts\"]\n",
    "]\n",
    "abl_df.turns = np.where(\n",
    "    abl_df.turns.apply(lambda x: str(x) == \"nan\"),\n",
    "    \"random_weighted\",\n",
    "    abl_df.turns,\n",
    ")\n",
    "abl_df.prompts = np.where(\n",
    "    abl_df.prompts.apply(lambda x: str(x) == \"nan\"), \"original\", abl_df.prompts\n",
    ")\n",
    "abl_df[\"model\"] = \"Qwen 2.5\"\n",
    "abl_df"
   ]
  },
  {
   "cell_type": "markdown",
   "metadata": {},
   "source": [
    "Data from CeRI http://archive.regulationroom.org/\n",
    "\n",
    "Any opinions, findings, and conclusions or recommendations expressed in this material are those of the author(s) and do not necessarily reflect the views of the CeRI (Cornell e-Rulemaking Initiative)."
   ]
  },
  {
   "cell_type": "code",
   "execution_count": null,
   "metadata": {},
   "outputs": [],
   "source": [
    "human_df = tasks.postprocessing.get_human_df()\n",
    "human_df[\"model\"] = \"Human\"\n",
    "human_df[\"turns\"] = \"Human\"\n",
    "human_df[\"prompts\"] = \"Human\"\n",
    "\n",
    "human_df"
   ]
  },
  {
   "cell_type": "code",
   "execution_count": null,
   "metadata": {},
   "outputs": [],
   "source": [
    "df = pd.concat([main_df, abl_df, human_df], ignore_index=True)\n",
    "df"
   ]
  },
  {
   "cell_type": "code",
   "execution_count": 7,
   "metadata": {},
   "outputs": [],
   "source": [
    "def prioritize_values(arr, priority=[\"Human\", \"Original\"]):\n",
    "    \"\"\"\n",
    "    Reorders elements of `arr` to put `priority` items first,\n",
    "    in order, preserving the rest.\n",
    "    \"\"\"\n",
    "    arr = list(arr)\n",
    "    rest = [item for item in arr if item not in priority]\n",
    "    return [item for item in priority if item in arr] + rest"
   ]
  },
  {
   "cell_type": "code",
   "execution_count": null,
   "metadata": {},
   "outputs": [],
   "source": [
    "df.message = df.message.astype(str)\n",
    "df.message = np.where(df.message == \"nan\", \"\", df.message)\n",
    "# rename values for graphs\n",
    "df.turns = df.turns.map(\n",
    "    {\n",
    "        \"roundrobin\": \"Round Robin\",\n",
    "        \"random\": \"Random\",\n",
    "        \"random_weighted\": \"Original\",\n",
    "        \"Human\": \"Human\",\n",
    "        \"Original\": \"Original\",\n",
    "    }\n",
    ")\n",
    "df.prompts = df.prompts.map(\n",
    "    {\n",
    "        \"nosdb\": \"No SDBs\",\n",
    "        \"basicinstructions\": \"Basic Instructions\",\n",
    "        \"original\": \"Original\",\n",
    "        \"Original\": \"Original\",\n",
    "        \"noroles\": \"No roles\",\n",
    "        \"Human\": \"Human\",\n",
    "    }\n",
    ")\n",
    "\n",
    "# keep constistent hues across graphs\n",
    "model_hue_order = prioritize_values(df.model.unique())\n",
    "prompts_hue_order = prioritize_values(df.prompts.unique())\n",
    "turns_hue_order = prioritize_values(df.turns.unique())\n",
    "\n",
    "df = df.rename(\n",
    "    {\n",
    "        \"turns\": \"Turn taking function\",\n",
    "        \"prompts\": \"Instruction prompt\",\n",
    "        \"model\": \"Model\",\n",
    "    },\n",
    "    axis=1,\n",
    ")\n",
    "df"
   ]
  },
  {
   "cell_type": "markdown",
   "metadata": {},
   "source": [
    "### Comment length"
   ]
  },
  {
   "cell_type": "code",
   "execution_count": null,
   "metadata": {},
   "outputs": [],
   "source": [
    "len_df = df\n",
    "len_df[\"comment_length\"] = df.message.apply(lambda x: len(x.split()))\n",
    "\n",
    "len_df.sort_values(\"comment_length\", ascending=False).head(10)"
   ]
  },
  {
   "cell_type": "code",
   "execution_count": null,
   "metadata": {},
   "outputs": [],
   "source": [
    "len_df.comment_length.describe()"
   ]
  },
  {
   "cell_type": "code",
   "execution_count": 11,
   "metadata": {},
   "outputs": [],
   "source": [
    "len_df.comment_length = len_df.comment_length.clip(upper=400)\n",
    "len_df = len_df[len_df.comment_length > 0]"
   ]
  },
  {
   "cell_type": "code",
   "execution_count": null,
   "metadata": {},
   "outputs": [],
   "source": [
    "tasks.graphs.comment_len_plot(\n",
    "    len_df,\n",
    "    length_col=\"comment_length\",\n",
    "    feature_col=\"Turn taking function\",\n",
    "    hue_order=turns_hue_order,\n",
    ")\n",
    "tasks.graphs.save_plot(\n",
    "    tasks.constants.GRAPH_OUTPUT_DIR / \"comment_len_turns.png\"\n",
    ")"
   ]
  },
  {
   "cell_type": "code",
   "execution_count": null,
   "metadata": {},
   "outputs": [],
   "source": [
    "tasks.graphs.comment_len_plot(\n",
    "    len_df,\n",
    "    length_col=\"comment_length\",\n",
    "    feature_col=\"Model\",\n",
    "    hue_order=model_hue_order,\n",
    ")\n",
    "tasks.graphs.save_plot(\n",
    "    tasks.constants.GRAPH_OUTPUT_DIR / \"comment_len_model.png\"\n",
    ")"
   ]
  },
  {
   "cell_type": "code",
   "execution_count": null,
   "metadata": {},
   "outputs": [],
   "source": [
    "tasks.graphs.comment_len_plot(\n",
    "    len_df,\n",
    "    length_col=\"comment_length\",\n",
    "    feature_col=\"Instruction prompt\",\n",
    "    hue_order=prompts_hue_order,\n",
    ")\n",
    "tasks.graphs.save_plot(\n",
    "    tasks.constants.GRAPH_OUTPUT_DIR / \"comment_len_prompts.png\"\n",
    ")"
   ]
  },
  {
   "cell_type": "markdown",
   "metadata": {},
   "source": [
    "### Diversity"
   ]
  },
  {
   "cell_type": "code",
   "execution_count": null,
   "metadata": {},
   "outputs": [],
   "source": [
    "similarity_df = df.copy()\n",
    "# delete @ usernames\n",
    "similarity_df.message = similarity_df.message.apply(\n",
    "    lambda msg: \" \".join(\n",
    "        word for word in msg.split() if not word.startswith(\"@\")\n",
    "    )\n",
    ")\n",
    "similarity_df = (\n",
    "    similarity_df.groupby(\n",
    "        [\"conv_id\", \"Model\", \"Instruction prompt\", \"Turn taking function\"]\n",
    "    )[\"message\"]\n",
    "    .apply(lambda messages: messages.tolist())\n",
    "    .reset_index()\n",
    ")\n",
    "comments_ls = similarity_df[\"message\"].tolist()\n",
    "similarity_df[\"rougel_similarity\"] = tasks.stats.rougel_similarity(comments_ls)\n",
    "similarity_df = similarity_df[~similarity_df.rougel_similarity.isnull()]\n",
    "similarity_df.rougel_similarity.describe()"
   ]
  },
  {
   "cell_type": "code",
   "execution_count": null,
   "metadata": {},
   "outputs": [],
   "source": [
    "tasks.graphs.rougel_plot(\n",
    "    df=similarity_df,\n",
    "    rougel_col=\"rougel_similarity\",\n",
    "    feature_col=\"Model\",\n",
    "    hue_order=model_hue_order,\n",
    ")\n",
    "tasks.graphs.save_plot(tasks.constants.GRAPH_OUTPUT_DIR / \"rougel_model.png\")"
   ]
  },
  {
   "cell_type": "code",
   "execution_count": null,
   "metadata": {},
   "outputs": [],
   "source": [
    "tasks.graphs.rougel_plot(\n",
    "    df=similarity_df,\n",
    "    rougel_col=\"rougel_similarity\",\n",
    "    feature_col=\"Instruction prompt\",\n",
    "    hue_order=prompts_hue_order,\n",
    ")\n",
    "tasks.graphs.save_plot(tasks.constants.GRAPH_OUTPUT_DIR / \"rougel_prompts.png\")"
   ]
  },
  {
   "cell_type": "code",
   "execution_count": null,
   "metadata": {},
   "outputs": [],
   "source": [
    "tasks.graphs.rougel_plot(\n",
    "    df=similarity_df,\n",
    "    rougel_col=\"rougel_similarity\",\n",
    "    feature_col=\"Turn taking function\",\n",
    "    hue_order=turns_hue_order\n",
    ")\n",
    "tasks.graphs.save_plot(\n",
    "    tasks.constants.GRAPH_OUTPUT_DIR / \"rougel_turns.png\"\n",
    ")"
   ]
  },
  {
   "cell_type": "markdown",
   "metadata": {},
   "source": [
    "## Statistical tests"
   ]
  },
  {
   "cell_type": "code",
   "execution_count": null,
   "metadata": {},
   "outputs": [],
   "source": [
    "tasks.stats.mean_comp_test(\n",
    "    df=similarity_df, feature_col=\"Model\", score_col=\"rougel_similarity\"\n",
    ")"
   ]
  },
  {
   "cell_type": "code",
   "execution_count": null,
   "metadata": {},
   "outputs": [],
   "source": [
    "tasks.graphs.posthoc_heatmap(\n",
    "    similarity_df, \"rougel_similarity\", group_col=\"Model\", vmin=VMIN, vmax=VMAX\n",
    ")"
   ]
  },
  {
   "cell_type": "code",
   "execution_count": null,
   "metadata": {},
   "outputs": [],
   "source": [
    "tasks.stats.mean_comp_test(\n",
    "    df=similarity_df,\n",
    "    feature_col=\"Instruction prompt\",\n",
    "    score_col=\"rougel_similarity\",\n",
    ")"
   ]
  },
  {
   "cell_type": "code",
   "execution_count": null,
   "metadata": {},
   "outputs": [],
   "source": [
    "tasks.graphs.posthoc_heatmap(\n",
    "    similarity_df,\n",
    "    \"rougel_similarity\",\n",
    "    group_col=\"Instruction prompt\",\n",
    "    vmin=VMIN,\n",
    "    vmax=VMAX,\n",
    ")"
   ]
  },
  {
   "cell_type": "code",
   "execution_count": null,
   "metadata": {},
   "outputs": [],
   "source": [
    "tasks.stats.mean_comp_test(\n",
    "    df=similarity_df,\n",
    "    feature_col=\"Turn taking function\",\n",
    "    score_col=\"rougel_similarity\",\n",
    ")"
   ]
  },
  {
   "cell_type": "code",
   "execution_count": null,
   "metadata": {},
   "outputs": [],
   "source": [
    "tasks.graphs.posthoc_heatmap(\n",
    "    similarity_df,\n",
    "    \"rougel_similarity\",\n",
    "    group_col=\"Turn taking function\",\n",
    "    vmin=VMIN,\n",
    "    vmax=VMAX,\n",
    ")"
   ]
  },
  {
   "cell_type": "markdown",
   "metadata": {},
   "source": [
    "## Diversity x Comment length correlation"
   ]
  },
  {
   "cell_type": "code",
   "execution_count": null,
   "metadata": {},
   "outputs": [],
   "source": [
    "conv_len_df = (\n",
    "    len_df.groupby([\"conv_id\", \"Model\"])[\"comment_length\"].sum().reset_index()\n",
    ")\n",
    "conv_len_df"
   ]
  },
  {
   "cell_type": "code",
   "execution_count": null,
   "metadata": {},
   "outputs": [],
   "source": [
    "corr_df = conv_len_df.merge(\n",
    "    similarity_df, on=\"conv_id\"\n",
    ")\n",
    "corr_df[\"human\"] = corr_df.Model_x == \"Human\"\n",
    "corr_df = corr_df.loc[:, [\"rougel_similarity\", \"comment_length\", \"human\"]]\n",
    "corr_df"
   ]
  },
  {
   "cell_type": "code",
   "execution_count": null,
   "metadata": {},
   "outputs": [],
   "source": [
    "model = smf.ols(\n",
    "    \"rougel_similarity ~ comment_length : C(human)\",\n",
    "    data=corr_df,\n",
    ")\n",
    "# Fit the model\n",
    "result = model.fit()\n",
    "result.summary()"
   ]
  }
 ],
 "metadata": {
  "kernelspec": {
   "display_name": "std",
   "language": "python",
   "name": "python3"
  },
  "language_info": {
   "codemirror_mode": {
    "name": "ipython",
    "version": 3
   },
   "file_extension": ".py",
   "mimetype": "text/x-python",
   "name": "python",
   "nbconvert_exporter": "python",
   "pygments_lexer": "ipython3",
   "version": "3.11.7"
  }
 },
 "nbformat": 4,
 "nbformat_minor": 2
}
