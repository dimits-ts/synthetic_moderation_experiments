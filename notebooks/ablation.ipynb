{
 "cells": [
  {
   "cell_type": "code",
   "execution_count": 1,
   "metadata": {},
   "outputs": [],
   "source": [
    "%load_ext autoreload\n",
    "%autoreload 2\n",
    "import re\n",
    "\n",
    "import pandas as pd\n",
    "import numpy as np\n",
    "import seaborn as sns\n",
    "import scipy.stats\n",
    "import matplotlib.pyplot as plt\n",
    "from tqdm.auto import tqdm\n",
    "\n",
    "\n",
    "import tasks.postprocessing\n",
    "import tasks.constants\n",
    "import tasks.graphs\n",
    "import tasks.stats\n",
    "\n",
    "\n",
    "tqdm.pandas()"
   ]
  },
  {
   "cell_type": "markdown",
   "metadata": {},
   "source": [
    "## Load datasets"
   ]
  },
  {
   "cell_type": "code",
   "execution_count": null,
   "metadata": {},
   "outputs": [],
   "source": [
    "main_df = tasks.postprocessing.get_main_dataset()\n",
    "main_df = main_df.iloc[:, [0, 1, 9, 4]]\n",
    "main_df = main_df.drop_duplicates(\"message_id\")\n",
    "main_df[\"turns\"] = \"random_weighted\"\n",
    "main_df[\"prompts\"] = \"original\"\n",
    "# remove seed comments from analysis\n",
    "main_df = main_df[main_df.model != \"hardcoded\"]\n",
    "main_df"
   ]
  },
  {
   "cell_type": "code",
   "execution_count": null,
   "metadata": {},
   "outputs": [],
   "source": [
    "abl_df = tasks.postprocessing.get_ablation_df()\n",
    "abl_df = abl_df.loc[\n",
    "    :, [\"conv_id\", \"message_id\", \"message\", \"turns\", \"prompts\"]\n",
    "]\n",
    "abl_df.turns = np.where(\n",
    "    abl_df.turns.apply(lambda x: str(x) == \"nan\"),\n",
    "    \"random_weighted\",\n",
    "    abl_df.turns,\n",
    ")\n",
    "abl_df.prompts = np.where(\n",
    "    abl_df.prompts.apply(lambda x: str(x) == \"nan\"), \"original\", abl_df.prompts\n",
    ")\n",
    "abl_df[\"model\"] = \"Qwen 2.5\"\n",
    "abl_df"
   ]
  },
  {
   "cell_type": "markdown",
   "metadata": {},
   "source": [
    "Data from CeRI http://archive.regulationroom.org/\n",
    "\n",
    "Any opinions, findings, and conclusions or recommendations expressed in this material are those of the author(s) and do not necessarily reflect the views of the CeRI (Cornell e-Rulemaking Initiative)."
   ]
  },
  {
   "cell_type": "code",
   "execution_count": null,
   "metadata": {},
   "outputs": [],
   "source": [
    "human_df = tasks.postprocessing.get_human_df()\n",
    "human_df[\"model\"] = \"human\"\n",
    "human_df[\"turns\"] = \"human\"\n",
    "human_df[\"prompts\"] = \"human\"\n",
    "\n",
    "human_df"
   ]
  },
  {
   "cell_type": "code",
   "execution_count": null,
   "metadata": {},
   "outputs": [],
   "source": [
    "df = pd.concat([main_df, abl_df, human_df], ignore_index=True)\n",
    "df"
   ]
  },
  {
   "cell_type": "code",
   "execution_count": null,
   "metadata": {},
   "outputs": [],
   "source": [
    "df.message = df.message.astype(str)\n",
    "df.message = np.where(df.message == \"nan\", \"\", df.message)\n",
    "df"
   ]
  },
  {
   "cell_type": "markdown",
   "metadata": {},
   "source": [
    "### Comment length"
   ]
  },
  {
   "cell_type": "code",
   "execution_count": null,
   "metadata": {},
   "outputs": [],
   "source": [
    "len_df = df\n",
    "len_df[\"comment_length\"] = df.message.apply(lambda x: len(x.split()))\n",
    "\n",
    "len_df.sort_values(\"comment_length\", ascending=False).head(10)"
   ]
  },
  {
   "cell_type": "code",
   "execution_count": null,
   "metadata": {},
   "outputs": [],
   "source": [
    "tasks.graphs.comment_len_plot(df, feature_col=\"turns\")"
   ]
  },
  {
   "cell_type": "code",
   "execution_count": null,
   "metadata": {},
   "outputs": [],
   "source": [
    "tasks.graphs.comment_len_plot(df, feature_col=\"model\")"
   ]
  },
  {
   "cell_type": "code",
   "execution_count": null,
   "metadata": {},
   "outputs": [],
   "source": [
    "tasks.graphs.comment_len_plot(df, feature_col=\"prompts\")"
   ]
  },
  {
   "cell_type": "markdown",
   "metadata": {},
   "source": [
    "### Diversity"
   ]
  },
  {
   "cell_type": "code",
   "execution_count": null,
   "metadata": {},
   "outputs": [],
   "source": [
    "similarity_df = df.copy()\n",
    "# delete @ usernames\n",
    "similarity_df.message = similarity_df.message.apply(\n",
    "    lambda msg: \" \".join(\n",
    "        word for word in msg.split() if not word.startswith(\"@\")\n",
    "    )\n",
    ")\n",
    "similarity_df = (\n",
    "    similarity_df.groupby([\"conv_id\", \"model\", \"prompts\", \"turns\"])[\"message\"]\n",
    "    .apply(lambda messages: messages.tolist())\n",
    "    .reset_index()\n",
    ")\n",
    "messages_list = similarity_df[\"message\"].tolist()\n",
    "similarity_df[\"rougel_similarity\"] = tasks.stats.rougel_similarity(\n",
    "    messages_list\n",
    ")\n",
    "similarity_df = similarity_df[~similarity_df.rougel_similarity.isnan()]\n",
    "similarity_df.rougel_similarity.describe()"
   ]
  },
  {
   "cell_type": "code",
   "execution_count": null,
   "metadata": {},
   "outputs": [],
   "source": [
    "tasks.graphs.rougel_plot(\n",
    "    similarity_df.rougel_similarity, feature=similarity_df.model\n",
    ")"
   ]
  },
  {
   "cell_type": "code",
   "execution_count": null,
   "metadata": {},
   "outputs": [],
   "source": [
    "tasks.graphs.rougel_plot(\n",
    "    similarity_df.rougel_similarity, feature=similarity_df.prompts\n",
    ")"
   ]
  },
  {
   "cell_type": "code",
   "execution_count": null,
   "metadata": {},
   "outputs": [],
   "source": [
    "tasks.graphs.rougel_plot(\n",
    "    similarity_df.rougel_similarity, feature=similarity_df.turns\n",
    ")"
   ]
  },
  {
   "cell_type": "code",
   "execution_count": null,
   "metadata": {},
   "outputs": [],
   "source": [
    "tasks.stats.mean_comp_test(\n",
    "    df=similarity_df, feature_col=\"model\", score_col=\"rougel_similarity\"\n",
    ")"
   ]
  },
  {
   "cell_type": "code",
   "execution_count": null,
   "metadata": {},
   "outputs": [],
   "source": [
    "tasks.graphs.posthoc_dunn_heatmap(\n",
    "    similarity_df, \"rougel_similarity\", group_col=\"model\"\n",
    ")"
   ]
  },
  {
   "cell_type": "code",
   "execution_count": null,
   "metadata": {},
   "outputs": [],
   "source": [
    "tasks.stats.mean_comp_test(\n",
    "    df=similarity_df, feature_col=\"prompts\", score_col=\"rougel_similarity\"\n",
    ")"
   ]
  },
  {
   "cell_type": "code",
   "execution_count": null,
   "metadata": {},
   "outputs": [],
   "source": [
    "tasks.graphs.posthoc_dunn_heatmap(\n",
    "    similarity_df, \"rougel_similarity\", group_col=\"prompts\"\n",
    ")"
   ]
  },
  {
   "cell_type": "code",
   "execution_count": null,
   "metadata": {},
   "outputs": [],
   "source": [
    "tasks.stats.mean_comp_test(\n",
    "    df=similarity_df, feature_col=\"turns\", score_col=\"rougel_similarity\"\n",
    ")"
   ]
  },
  {
   "cell_type": "code",
   "execution_count": null,
   "metadata": {},
   "outputs": [],
   "source": [
    "tasks.graphs.posthoc_dunn_heatmap(\n",
    "    similarity_df, \"rougel_similarity\", group_col=\"turns\"\n",
    ")"
   ]
  }
 ],
 "metadata": {
  "kernelspec": {
   "display_name": "std",
   "language": "python",
   "name": "python3"
  },
  "language_info": {
   "codemirror_mode": {
    "name": "ipython",
    "version": 3
   },
   "file_extension": ".py",
   "mimetype": "text/x-python",
   "name": "python",
   "nbconvert_exporter": "python",
   "pygments_lexer": "ipython3",
   "version": "3.11.7"
  }
 },
 "nbformat": 4,
 "nbformat_minor": 2
}
